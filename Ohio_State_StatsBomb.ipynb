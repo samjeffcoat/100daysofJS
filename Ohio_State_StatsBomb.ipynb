{
  "nbformat": 4,
  "nbformat_minor": 0,
  "metadata": {
    "colab": {
      "provenance": [],
      "authorship_tag": "ABX9TyOtINV6Vv9npvJr+7FMUINT",
      "include_colab_link": true
    },
    "kernelspec": {
      "name": "python3",
      "display_name": "Python 3"
    },
    "language_info": {
      "name": "python"
    },
    "accelerator": "GPU",
    "gpuClass": "premium"
  },
  "cells": [
    {
      "cell_type": "markdown",
      "metadata": {
        "id": "view-in-github",
        "colab_type": "text"
      },
      "source": [
        "<a href=\"https://colab.research.google.com/github/samjeffcoat/100daysofJS/blob/main/Ohio_State_StatsBomb.ipynb\" target=\"_parent\"><img src=\"https://colab.research.google.com/assets/colab-badge.svg\" alt=\"Open In Colab\"/></a>"
      ]
    },
    {
      "cell_type": "code",
      "source": [
        "!pip install jovian opendatasets numpy pandas-profiling nfl_data_py matplotlib seaborn folium plotly --upgrade --quiet"
      ],
      "metadata": {
        "colab": {
          "base_uri": "https://localhost:8080/"
        },
        "id": "bpxurrnq8hsU",
        "outputId": "079713b9-8805-45e8-b279-b5d32e3dfd38"
      },
      "execution_count": 2,
      "outputs": [
        {
          "output_type": "stream",
          "name": "stdout",
          "text": [
            "\u001b[2K     \u001b[90m━━━━━━━━━━━━━━━━━━━━━━━━━━━━━━━━━━━━━━━━\u001b[0m \u001b[32m68.6/68.6 KB\u001b[0m \u001b[31m8.6 MB/s\u001b[0m eta \u001b[36m0:00:00\u001b[0m\n",
            "\u001b[2K     \u001b[90m━━━━━━━━━━━━━━━━━━━━━━━━━━━━━━━━━━━━━━━━\u001b[0m \u001b[32m17.3/17.3 MB\u001b[0m \u001b[31m85.7 MB/s\u001b[0m eta \u001b[36m0:00:00\u001b[0m\n",
            "\u001b[2K     \u001b[90m━━━━━━━━━━━━━━━━━━━━━━━━━━━━━━━━━━━━━━\u001b[0m \u001b[32m324.4/324.4 KB\u001b[0m \u001b[31m36.8 MB/s\u001b[0m eta \u001b[36m0:00:00\u001b[0m\n",
            "\u001b[2K     \u001b[90m━━━━━━━━━━━━━━━━━━━━━━━━━━━━━━━━━━━━━━━━\u001b[0m \u001b[32m1.4/1.4 MB\u001b[0m \u001b[31m7.0 MB/s\u001b[0m eta \u001b[36m0:00:00\u001b[0m\n",
            "\u001b[?25h  Preparing metadata (setup.py) ... \u001b[?25l\u001b[?25hdone\n",
            "\u001b[2K     \u001b[90m━━━━━━━━━━━━━━━━━━━━━━━━━━━━━━━━━━━━━━━━\u001b[0m \u001b[32m15.3/15.3 MB\u001b[0m \u001b[31m90.4 MB/s\u001b[0m eta \u001b[36m0:00:00\u001b[0m\n",
            "\u001b[?25h  Preparing metadata (setup.py) ... \u001b[?25l\u001b[?25hdone\n",
            "\u001b[2K     \u001b[90m━━━━━━━━━━━━━━━━━━━━━━━━━━━━━━━━━━━━━━\u001b[0m \u001b[32m345.9/345.9 KB\u001b[0m \u001b[31m39.0 MB/s\u001b[0m eta \u001b[36m0:00:00\u001b[0m\n",
            "\u001b[2K     \u001b[90m━━━━━━━━━━━━━━━━━━━━━━━━━━━━━━━━━━━━━━━━\u001b[0m \u001b[32m1.6/1.6 MB\u001b[0m \u001b[31m80.9 MB/s\u001b[0m eta \u001b[36m0:00:00\u001b[0m\n",
            "\u001b[2K     \u001b[90m━━━━━━━━━━━━━━━━━━━━━━━━━━━━━━━━━━━━━━━━\u001b[0m \u001b[32m55.7/55.7 KB\u001b[0m \u001b[31m8.4 MB/s\u001b[0m eta \u001b[36m0:00:00\u001b[0m\n",
            "\u001b[2K     \u001b[90m━━━━━━━━━━━━━━━━━━━━━━━━━━━━━━━━━━━━━━━\u001b[0m \u001b[32m12.4/12.4 MB\u001b[0m \u001b[31m110.8 MB/s\u001b[0m eta \u001b[36m0:00:00\u001b[0m\n",
            "\u001b[2K     \u001b[90m━━━━━━━━━━━━━━━━━━━━━━━━━━━━━━━━━━━━━━━━\u001b[0m \u001b[32m2.0/2.0 MB\u001b[0m \u001b[31m90.3 MB/s\u001b[0m eta \u001b[36m0:00:00\u001b[0m\n",
            "\u001b[2K     \u001b[90m━━━━━━━━━━━━━━━━━━━━━━━━━━━━━━━━━━━━━━━\u001b[0m \u001b[32m11.8/11.8 MB\u001b[0m \u001b[31m104.7 MB/s\u001b[0m eta \u001b[36m0:00:00\u001b[0m\n",
            "\u001b[2K     \u001b[90m━━━━━━━━━━━━━━━━━━━━━━━━━━━━━━━━━━━━━━━\u001b[0m \u001b[32m12.2/12.2 MB\u001b[0m \u001b[31m114.6 MB/s\u001b[0m eta \u001b[36m0:00:00\u001b[0m\n",
            "\u001b[2K     \u001b[90m━━━━━━━━━━━━━━━━━━━━━━━━━━━━━━━━━━━━━━━━\u001b[0m \u001b[32m17.1/17.1 MB\u001b[0m \u001b[31m96.3 MB/s\u001b[0m eta \u001b[36m0:00:00\u001b[0m\n",
            "\u001b[2K     \u001b[90m━━━━━━━━━━━━━━━━━━━━━━━━━━━━━━━━━━━━━━\u001b[0m \u001b[32m102.7/102.7 KB\u001b[0m \u001b[31m14.1 MB/s\u001b[0m eta \u001b[36m0:00:00\u001b[0m\n",
            "\u001b[2K     \u001b[90m━━━━━━━━━━━━━━━━━━━━━━━━━━━━━━━━━━━━━━━━\u001b[0m \u001b[32m33.8/33.8 MB\u001b[0m \u001b[31m55.2 MB/s\u001b[0m eta \u001b[36m0:00:00\u001b[0m\n",
            "\u001b[2K     \u001b[90m━━━━━━━━━━━━━━━━━━━━━━━━━━━━━━━━━━━━━━━━\u001b[0m \u001b[32m78.5/78.5 KB\u001b[0m \u001b[31m11.7 MB/s\u001b[0m eta \u001b[36m0:00:00\u001b[0m\n",
            "\u001b[?25h  Building wheel for nfl_data_py (setup.py) ... \u001b[?25l\u001b[?25hdone\n",
            "  Building wheel for uuid (setup.py) ... \u001b[?25l\u001b[?25hdone\n"
          ]
        }
      ]
    },
    {
      "cell_type": "code",
      "source": [
        "import pandas as pd\n",
        "import numpy as np\n",
        "import matplotlib\n",
        "import matplotlib.pyplot as plt\n",
        "%matplotlib inline\n",
        "from matplotlib import colors\n",
        "matplotlib.rcParams['font.size'] = 12\n",
        "matplotlib.rcParams['figure.figsize'] = (10, 6)\n",
        "matplotlib.rcParams['figure.facecolor'] = '#00000000'\n",
        "import seaborn as sns\n",
        "sns.set(style=\"darkgrid\")\n",
        "import folium\n",
        "import plotly.graph_objects as go\n",
        "import nfl_data_py as nflpy\n",
        "import plotly\n",
        "import plotly.express as px"
      ],
      "metadata": {
        "id": "vhhpA_II9KGH"
      },
      "execution_count": 5,
      "outputs": []
    },
    {
      "cell_type": "code",
      "execution_count": 6,
      "metadata": {
        "id": "J8qbaj9A72By"
      },
      "outputs": [],
      "source": [
        "play_by_play = pd.read_csv('/content/Ohio State 2022 Play by Play Data.csv')"
      ]
    },
    {
      "cell_type": "code",
      "source": [
        "event_data_ = pd.read_csv('/content/Ohio State 2022 Event Data.csv')"
      ],
      "metadata": {
        "colab": {
          "base_uri": "https://localhost:8080/"
        },
        "id": "jeYiYcyz9VgI",
        "outputId": "ac80daeb-485a-42a8-bc96-558471842e7a"
      },
      "execution_count": 7,
      "outputs": [
        {
          "output_type": "stream",
          "name": "stderr",
          "text": [
            "<ipython-input-7-7a020d1bdfb4>:1: DtypeWarning: Columns (23,42,48,49) have mixed types. Specify dtype option on import or set low_memory=False.\n",
            "  event_data_ = pd.read_csv('/content/Ohio State 2022 Event Data.csv')\n"
          ]
        }
      ]
    },
    {
      "cell_type": "code",
      "source": [
        "play_by_play.head()"
      ],
      "metadata": {
        "colab": {
          "base_uri": "https://localhost:8080/",
          "height": 560
        },
        "id": "xokH7mPh9cmc",
        "outputId": "938570df-beec-45c3-ff56-03b048c81aa4"
      },
      "execution_count": 8,
      "outputs": [
        {
          "output_type": "execute_result",
          "data": {
            "text/plain": [
              "     offense_team_name    defense_team_name  \\\n",
              "0        Iowa Hawkeyes  Ohio State Buckeyes   \n",
              "1        Iowa Hawkeyes  Ohio State Buckeyes   \n",
              "2  Ohio State Buckeyes        Iowa Hawkeyes   \n",
              "3  Ohio State Buckeyes        Iowa Hawkeyes   \n",
              "4  Ohio State Buckeyes        Iowa Hawkeyes   \n",
              "\n",
              "                              play_uuid  game_id  \\\n",
              "0  3056d7bc-b1f8-47f4-bb80-0f23629644fb  1500444   \n",
              "1  53874961-6df6-418d-9982-34f9d468c545  1500444   \n",
              "2  2e54869a-678e-4703-9d49-0b770e391691  1500444   \n",
              "3  0a202cb3-cfa1-45c7-a6bc-d895b67424cd  1500444   \n",
              "4  3419a14f-5efa-4b91-8ab2-40b9bca1aa10  1500444   \n",
              "\n",
              "                             drive_uuid  play_game_index  play_drive_index  \\\n",
              "0  edcbaddc-3b3e-499e-84d1-f000cdb79727                1                 1   \n",
              "1  edcbaddc-3b3e-499e-84d1-f000cdb79727                2                 2   \n",
              "2  62211ae6-e279-43cc-8cf1-1d8c16fb55bc                3                 1   \n",
              "3  62211ae6-e279-43cc-8cf1-1d8c16fb55bc                4                 2   \n",
              "4  62211ae6-e279-43cc-8cf1-1d8c16fb55bc                5                 3   \n",
              "\n",
              "   play_quarter  play_quarter_clock_remaining  play_clock_paused  ...  \\\n",
              "0             1                      900000.0               True  ...   \n",
              "1             1                      895000.0               True  ...   \n",
              "2             1                      886000.0               True  ...   \n",
              "3             1                      859000.0               True  ...   \n",
              "4             1                      851000.0               True  ...   \n",
              "\n",
              "   play_formation_type  play_formation_run_strength  \\\n",
              "0                  NaN                          NaN   \n",
              "1                   21                            L   \n",
              "2                  2x2                            L   \n",
              "3                  3x1                            R   \n",
              "4                   21                            L   \n",
              "\n",
              "   play_formation_pass_strength  play_formation_fib  \\\n",
              "0                           NaN                 NaN   \n",
              "1                             L                   Y   \n",
              "2                             L                   O   \n",
              "3                             R                   Y   \n",
              "4                             L                   Y   \n",
              "\n",
              "   play_formation_variant_f_on  play_formation_variant_h_on  \\\n",
              "0                          NaN                          NaN   \n",
              "1                        False                        False   \n",
              "2                        False                        False   \n",
              "3                        False                        False   \n",
              "4                        False                        False   \n",
              "\n",
              "   play_formation_variant_x_on  play_formation_variant_y_on  \\\n",
              "0                          NaN                          NaN   \n",
              "1                        False                        False   \n",
              "2                        False                        False   \n",
              "3                        False                        False   \n",
              "4                        False                        False   \n",
              "\n",
              "  play_formation_variant_z_on  play_pass_location  \n",
              "0                         NaN                 NaN  \n",
              "1                        True                  In  \n",
              "2                        True                 NaN  \n",
              "3                       False                 NaN  \n",
              "4                        True                  In  \n",
              "\n",
              "[5 rows x 140 columns]"
            ],
            "text/html": [
              "\n",
              "  <div id=\"df-de79da58-9308-4def-ba4d-77c97fe2e92c\">\n",
              "    <div class=\"colab-df-container\">\n",
              "      <div>\n",
              "<style scoped>\n",
              "    .dataframe tbody tr th:only-of-type {\n",
              "        vertical-align: middle;\n",
              "    }\n",
              "\n",
              "    .dataframe tbody tr th {\n",
              "        vertical-align: top;\n",
              "    }\n",
              "\n",
              "    .dataframe thead th {\n",
              "        text-align: right;\n",
              "    }\n",
              "</style>\n",
              "<table border=\"1\" class=\"dataframe\">\n",
              "  <thead>\n",
              "    <tr style=\"text-align: right;\">\n",
              "      <th></th>\n",
              "      <th>offense_team_name</th>\n",
              "      <th>defense_team_name</th>\n",
              "      <th>play_uuid</th>\n",
              "      <th>game_id</th>\n",
              "      <th>drive_uuid</th>\n",
              "      <th>play_game_index</th>\n",
              "      <th>play_drive_index</th>\n",
              "      <th>play_quarter</th>\n",
              "      <th>play_quarter_clock_remaining</th>\n",
              "      <th>play_clock_paused</th>\n",
              "      <th>...</th>\n",
              "      <th>play_formation_type</th>\n",
              "      <th>play_formation_run_strength</th>\n",
              "      <th>play_formation_pass_strength</th>\n",
              "      <th>play_formation_fib</th>\n",
              "      <th>play_formation_variant_f_on</th>\n",
              "      <th>play_formation_variant_h_on</th>\n",
              "      <th>play_formation_variant_x_on</th>\n",
              "      <th>play_formation_variant_y_on</th>\n",
              "      <th>play_formation_variant_z_on</th>\n",
              "      <th>play_pass_location</th>\n",
              "    </tr>\n",
              "  </thead>\n",
              "  <tbody>\n",
              "    <tr>\n",
              "      <th>0</th>\n",
              "      <td>Iowa Hawkeyes</td>\n",
              "      <td>Ohio State Buckeyes</td>\n",
              "      <td>3056d7bc-b1f8-47f4-bb80-0f23629644fb</td>\n",
              "      <td>1500444</td>\n",
              "      <td>edcbaddc-3b3e-499e-84d1-f000cdb79727</td>\n",
              "      <td>1</td>\n",
              "      <td>1</td>\n",
              "      <td>1</td>\n",
              "      <td>900000.0</td>\n",
              "      <td>True</td>\n",
              "      <td>...</td>\n",
              "      <td>NaN</td>\n",
              "      <td>NaN</td>\n",
              "      <td>NaN</td>\n",
              "      <td>NaN</td>\n",
              "      <td>NaN</td>\n",
              "      <td>NaN</td>\n",
              "      <td>NaN</td>\n",
              "      <td>NaN</td>\n",
              "      <td>NaN</td>\n",
              "      <td>NaN</td>\n",
              "    </tr>\n",
              "    <tr>\n",
              "      <th>1</th>\n",
              "      <td>Iowa Hawkeyes</td>\n",
              "      <td>Ohio State Buckeyes</td>\n",
              "      <td>53874961-6df6-418d-9982-34f9d468c545</td>\n",
              "      <td>1500444</td>\n",
              "      <td>edcbaddc-3b3e-499e-84d1-f000cdb79727</td>\n",
              "      <td>2</td>\n",
              "      <td>2</td>\n",
              "      <td>1</td>\n",
              "      <td>895000.0</td>\n",
              "      <td>True</td>\n",
              "      <td>...</td>\n",
              "      <td>21</td>\n",
              "      <td>L</td>\n",
              "      <td>L</td>\n",
              "      <td>Y</td>\n",
              "      <td>False</td>\n",
              "      <td>False</td>\n",
              "      <td>False</td>\n",
              "      <td>False</td>\n",
              "      <td>True</td>\n",
              "      <td>In</td>\n",
              "    </tr>\n",
              "    <tr>\n",
              "      <th>2</th>\n",
              "      <td>Ohio State Buckeyes</td>\n",
              "      <td>Iowa Hawkeyes</td>\n",
              "      <td>2e54869a-678e-4703-9d49-0b770e391691</td>\n",
              "      <td>1500444</td>\n",
              "      <td>62211ae6-e279-43cc-8cf1-1d8c16fb55bc</td>\n",
              "      <td>3</td>\n",
              "      <td>1</td>\n",
              "      <td>1</td>\n",
              "      <td>886000.0</td>\n",
              "      <td>True</td>\n",
              "      <td>...</td>\n",
              "      <td>2x2</td>\n",
              "      <td>L</td>\n",
              "      <td>L</td>\n",
              "      <td>O</td>\n",
              "      <td>False</td>\n",
              "      <td>False</td>\n",
              "      <td>False</td>\n",
              "      <td>False</td>\n",
              "      <td>True</td>\n",
              "      <td>NaN</td>\n",
              "    </tr>\n",
              "    <tr>\n",
              "      <th>3</th>\n",
              "      <td>Ohio State Buckeyes</td>\n",
              "      <td>Iowa Hawkeyes</td>\n",
              "      <td>0a202cb3-cfa1-45c7-a6bc-d895b67424cd</td>\n",
              "      <td>1500444</td>\n",
              "      <td>62211ae6-e279-43cc-8cf1-1d8c16fb55bc</td>\n",
              "      <td>4</td>\n",
              "      <td>2</td>\n",
              "      <td>1</td>\n",
              "      <td>859000.0</td>\n",
              "      <td>True</td>\n",
              "      <td>...</td>\n",
              "      <td>3x1</td>\n",
              "      <td>R</td>\n",
              "      <td>R</td>\n",
              "      <td>Y</td>\n",
              "      <td>False</td>\n",
              "      <td>False</td>\n",
              "      <td>False</td>\n",
              "      <td>False</td>\n",
              "      <td>False</td>\n",
              "      <td>NaN</td>\n",
              "    </tr>\n",
              "    <tr>\n",
              "      <th>4</th>\n",
              "      <td>Ohio State Buckeyes</td>\n",
              "      <td>Iowa Hawkeyes</td>\n",
              "      <td>3419a14f-5efa-4b91-8ab2-40b9bca1aa10</td>\n",
              "      <td>1500444</td>\n",
              "      <td>62211ae6-e279-43cc-8cf1-1d8c16fb55bc</td>\n",
              "      <td>5</td>\n",
              "      <td>3</td>\n",
              "      <td>1</td>\n",
              "      <td>851000.0</td>\n",
              "      <td>True</td>\n",
              "      <td>...</td>\n",
              "      <td>21</td>\n",
              "      <td>L</td>\n",
              "      <td>L</td>\n",
              "      <td>Y</td>\n",
              "      <td>False</td>\n",
              "      <td>False</td>\n",
              "      <td>False</td>\n",
              "      <td>False</td>\n",
              "      <td>True</td>\n",
              "      <td>In</td>\n",
              "    </tr>\n",
              "  </tbody>\n",
              "</table>\n",
              "<p>5 rows × 140 columns</p>\n",
              "</div>\n",
              "      <button class=\"colab-df-convert\" onclick=\"convertToInteractive('df-de79da58-9308-4def-ba4d-77c97fe2e92c')\"\n",
              "              title=\"Convert this dataframe to an interactive table.\"\n",
              "              style=\"display:none;\">\n",
              "        \n",
              "  <svg xmlns=\"http://www.w3.org/2000/svg\" height=\"24px\"viewBox=\"0 0 24 24\"\n",
              "       width=\"24px\">\n",
              "    <path d=\"M0 0h24v24H0V0z\" fill=\"none\"/>\n",
              "    <path d=\"M18.56 5.44l.94 2.06.94-2.06 2.06-.94-2.06-.94-.94-2.06-.94 2.06-2.06.94zm-11 1L8.5 8.5l.94-2.06 2.06-.94-2.06-.94L8.5 2.5l-.94 2.06-2.06.94zm10 10l.94 2.06.94-2.06 2.06-.94-2.06-.94-.94-2.06-.94 2.06-2.06.94z\"/><path d=\"M17.41 7.96l-1.37-1.37c-.4-.4-.92-.59-1.43-.59-.52 0-1.04.2-1.43.59L10.3 9.45l-7.72 7.72c-.78.78-.78 2.05 0 2.83L4 21.41c.39.39.9.59 1.41.59.51 0 1.02-.2 1.41-.59l7.78-7.78 2.81-2.81c.8-.78.8-2.07 0-2.86zM5.41 20L4 18.59l7.72-7.72 1.47 1.35L5.41 20z\"/>\n",
              "  </svg>\n",
              "      </button>\n",
              "      \n",
              "  <style>\n",
              "    .colab-df-container {\n",
              "      display:flex;\n",
              "      flex-wrap:wrap;\n",
              "      gap: 12px;\n",
              "    }\n",
              "\n",
              "    .colab-df-convert {\n",
              "      background-color: #E8F0FE;\n",
              "      border: none;\n",
              "      border-radius: 50%;\n",
              "      cursor: pointer;\n",
              "      display: none;\n",
              "      fill: #1967D2;\n",
              "      height: 32px;\n",
              "      padding: 0 0 0 0;\n",
              "      width: 32px;\n",
              "    }\n",
              "\n",
              "    .colab-df-convert:hover {\n",
              "      background-color: #E2EBFA;\n",
              "      box-shadow: 0px 1px 2px rgba(60, 64, 67, 0.3), 0px 1px 3px 1px rgba(60, 64, 67, 0.15);\n",
              "      fill: #174EA6;\n",
              "    }\n",
              "\n",
              "    [theme=dark] .colab-df-convert {\n",
              "      background-color: #3B4455;\n",
              "      fill: #D2E3FC;\n",
              "    }\n",
              "\n",
              "    [theme=dark] .colab-df-convert:hover {\n",
              "      background-color: #434B5C;\n",
              "      box-shadow: 0px 1px 3px 1px rgba(0, 0, 0, 0.15);\n",
              "      filter: drop-shadow(0px 1px 2px rgba(0, 0, 0, 0.3));\n",
              "      fill: #FFFFFF;\n",
              "    }\n",
              "  </style>\n",
              "\n",
              "      <script>\n",
              "        const buttonEl =\n",
              "          document.querySelector('#df-de79da58-9308-4def-ba4d-77c97fe2e92c button.colab-df-convert');\n",
              "        buttonEl.style.display =\n",
              "          google.colab.kernel.accessAllowed ? 'block' : 'none';\n",
              "\n",
              "        async function convertToInteractive(key) {\n",
              "          const element = document.querySelector('#df-de79da58-9308-4def-ba4d-77c97fe2e92c');\n",
              "          const dataTable =\n",
              "            await google.colab.kernel.invokeFunction('convertToInteractive',\n",
              "                                                     [key], {});\n",
              "          if (!dataTable) return;\n",
              "\n",
              "          const docLinkHtml = 'Like what you see? Visit the ' +\n",
              "            '<a target=\"_blank\" href=https://colab.research.google.com/notebooks/data_table.ipynb>data table notebook</a>'\n",
              "            + ' to learn more about interactive tables.';\n",
              "          element.innerHTML = '';\n",
              "          dataTable['output_type'] = 'display_data';\n",
              "          await google.colab.output.renderOutput(dataTable, element);\n",
              "          const docLink = document.createElement('div');\n",
              "          docLink.innerHTML = docLinkHtml;\n",
              "          element.appendChild(docLink);\n",
              "        }\n",
              "      </script>\n",
              "    </div>\n",
              "  </div>\n",
              "  "
            ]
          },
          "metadata": {},
          "execution_count": 8
        }
      ]
    },
    {
      "cell_type": "code",
      "source": [
        "event_data_.head()"
      ],
      "metadata": {
        "colab": {
          "base_uri": "https://localhost:8080/",
          "height": 560
        },
        "id": "1weU8vHx9gRP",
        "outputId": "eb820b7e-8e99-466e-830a-94d9067914ae"
      },
      "execution_count": 9,
      "outputs": [
        {
          "output_type": "execute_result",
          "data": {
            "text/plain": [
              "             team_name                            event_uuid  game_id  \\\n",
              "0  Ohio State Buckeyes  0850abcd-79b7-4bea-8a84-b3b7642a7a37  1500444   \n",
              "1        Iowa Hawkeyes  b5003ca4-0653-45e1-9fb2-053b8d6330b9  1500444   \n",
              "2        Iowa Hawkeyes  b983651b-6b43-4cc2-a786-55881fc8ab70  1500444   \n",
              "3  Ohio State Buckeyes  3056d7bc-b1f8-47f4-bb80-0f23629644fb  1500444   \n",
              "4  Ohio State Buckeyes  2ed11582-305b-4120-a46c-96e04f6cde7e  1500444   \n",
              "\n",
              "   game_quarter  event_game_index                             play_uuid  \\\n",
              "0             1                 0                                   NaN   \n",
              "1             1                 1                                   NaN   \n",
              "2             1                 2                                   NaN   \n",
              "3             1                 3  3056d7bc-b1f8-47f4-bb80-0f23629644fb   \n",
              "4             1                 4  3056d7bc-b1f8-47f4-bb80-0f23629644fb   \n",
              "\n",
              "   event_video_timestamp  game_clock  team_id  team_attacking_left_to_right  \\\n",
              "0                0.00000         NaN  1001167                         False   \n",
              "1                0.05000         NaN  1001465                         False   \n",
              "2                0.06154         NaN  1001465                         False   \n",
              "3                0.06154    900000.0  1001167                         False   \n",
              "4                1.51154    900000.0  1001167                         False   \n",
              "\n",
              "   ...                       base_event_uuid  event_tackle_first_contact  \\\n",
              "0  ...                                   NaN                         NaN   \n",
              "1  ...                                   NaN                         NaN   \n",
              "2  ...  3056d7bc-b1f8-47f4-bb80-0f23629644fb                         NaN   \n",
              "3  ...                                   NaN                         NaN   \n",
              "4  ...                                   NaN                         NaN   \n",
              "\n",
              "   event_pass_placement_uncollectable  event_no_ff_cause  \\\n",
              "0                                 NaN                NaN   \n",
              "1                                 NaN                NaN   \n",
              "2                                 NaN                NaN   \n",
              "3                                 NaN                NaN   \n",
              "4                                 NaN                NaN   \n",
              "\n",
              "   event_pass_placement_displacement  event_pass_comp_prob  \\\n",
              "0                                NaN                   NaN   \n",
              "1                                NaN                   NaN   \n",
              "2                                NaN                   NaN   \n",
              "3                                NaN                   NaN   \n",
              "4                                NaN                   NaN   \n",
              "\n",
              "   event_catch_comp_with_placement  event_catch_comp_without_placement  \\\n",
              "0                              NaN                                 NaN   \n",
              "1                              NaN                                 NaN   \n",
              "2                              NaN                                 NaN   \n",
              "3                              NaN                                 NaN   \n",
              "4                              NaN                                 NaN   \n",
              "\n",
              "   event_tackle_first_attempt event_offense_last_action  \n",
              "0                         NaN                       NaN  \n",
              "1                         NaN                       NaN  \n",
              "2                         NaN                       NaN  \n",
              "3                         NaN                       NaN  \n",
              "4                         NaN                       NaN  \n",
              "\n",
              "[5 rows x 68 columns]"
            ],
            "text/html": [
              "\n",
              "  <div id=\"df-5c820b94-5676-456b-966b-a071d93c8c15\">\n",
              "    <div class=\"colab-df-container\">\n",
              "      <div>\n",
              "<style scoped>\n",
              "    .dataframe tbody tr th:only-of-type {\n",
              "        vertical-align: middle;\n",
              "    }\n",
              "\n",
              "    .dataframe tbody tr th {\n",
              "        vertical-align: top;\n",
              "    }\n",
              "\n",
              "    .dataframe thead th {\n",
              "        text-align: right;\n",
              "    }\n",
              "</style>\n",
              "<table border=\"1\" class=\"dataframe\">\n",
              "  <thead>\n",
              "    <tr style=\"text-align: right;\">\n",
              "      <th></th>\n",
              "      <th>team_name</th>\n",
              "      <th>event_uuid</th>\n",
              "      <th>game_id</th>\n",
              "      <th>game_quarter</th>\n",
              "      <th>event_game_index</th>\n",
              "      <th>play_uuid</th>\n",
              "      <th>event_video_timestamp</th>\n",
              "      <th>game_clock</th>\n",
              "      <th>team_id</th>\n",
              "      <th>team_attacking_left_to_right</th>\n",
              "      <th>...</th>\n",
              "      <th>base_event_uuid</th>\n",
              "      <th>event_tackle_first_contact</th>\n",
              "      <th>event_pass_placement_uncollectable</th>\n",
              "      <th>event_no_ff_cause</th>\n",
              "      <th>event_pass_placement_displacement</th>\n",
              "      <th>event_pass_comp_prob</th>\n",
              "      <th>event_catch_comp_with_placement</th>\n",
              "      <th>event_catch_comp_without_placement</th>\n",
              "      <th>event_tackle_first_attempt</th>\n",
              "      <th>event_offense_last_action</th>\n",
              "    </tr>\n",
              "  </thead>\n",
              "  <tbody>\n",
              "    <tr>\n",
              "      <th>0</th>\n",
              "      <td>Ohio State Buckeyes</td>\n",
              "      <td>0850abcd-79b7-4bea-8a84-b3b7642a7a37</td>\n",
              "      <td>1500444</td>\n",
              "      <td>1</td>\n",
              "      <td>0</td>\n",
              "      <td>NaN</td>\n",
              "      <td>0.00000</td>\n",
              "      <td>NaN</td>\n",
              "      <td>1001167</td>\n",
              "      <td>False</td>\n",
              "      <td>...</td>\n",
              "      <td>NaN</td>\n",
              "      <td>NaN</td>\n",
              "      <td>NaN</td>\n",
              "      <td>NaN</td>\n",
              "      <td>NaN</td>\n",
              "      <td>NaN</td>\n",
              "      <td>NaN</td>\n",
              "      <td>NaN</td>\n",
              "      <td>NaN</td>\n",
              "      <td>NaN</td>\n",
              "    </tr>\n",
              "    <tr>\n",
              "      <th>1</th>\n",
              "      <td>Iowa Hawkeyes</td>\n",
              "      <td>b5003ca4-0653-45e1-9fb2-053b8d6330b9</td>\n",
              "      <td>1500444</td>\n",
              "      <td>1</td>\n",
              "      <td>1</td>\n",
              "      <td>NaN</td>\n",
              "      <td>0.05000</td>\n",
              "      <td>NaN</td>\n",
              "      <td>1001465</td>\n",
              "      <td>False</td>\n",
              "      <td>...</td>\n",
              "      <td>NaN</td>\n",
              "      <td>NaN</td>\n",
              "      <td>NaN</td>\n",
              "      <td>NaN</td>\n",
              "      <td>NaN</td>\n",
              "      <td>NaN</td>\n",
              "      <td>NaN</td>\n",
              "      <td>NaN</td>\n",
              "      <td>NaN</td>\n",
              "      <td>NaN</td>\n",
              "    </tr>\n",
              "    <tr>\n",
              "      <th>2</th>\n",
              "      <td>Iowa Hawkeyes</td>\n",
              "      <td>b983651b-6b43-4cc2-a786-55881fc8ab70</td>\n",
              "      <td>1500444</td>\n",
              "      <td>1</td>\n",
              "      <td>2</td>\n",
              "      <td>NaN</td>\n",
              "      <td>0.06154</td>\n",
              "      <td>NaN</td>\n",
              "      <td>1001465</td>\n",
              "      <td>False</td>\n",
              "      <td>...</td>\n",
              "      <td>3056d7bc-b1f8-47f4-bb80-0f23629644fb</td>\n",
              "      <td>NaN</td>\n",
              "      <td>NaN</td>\n",
              "      <td>NaN</td>\n",
              "      <td>NaN</td>\n",
              "      <td>NaN</td>\n",
              "      <td>NaN</td>\n",
              "      <td>NaN</td>\n",
              "      <td>NaN</td>\n",
              "      <td>NaN</td>\n",
              "    </tr>\n",
              "    <tr>\n",
              "      <th>3</th>\n",
              "      <td>Ohio State Buckeyes</td>\n",
              "      <td>3056d7bc-b1f8-47f4-bb80-0f23629644fb</td>\n",
              "      <td>1500444</td>\n",
              "      <td>1</td>\n",
              "      <td>3</td>\n",
              "      <td>3056d7bc-b1f8-47f4-bb80-0f23629644fb</td>\n",
              "      <td>0.06154</td>\n",
              "      <td>900000.0</td>\n",
              "      <td>1001167</td>\n",
              "      <td>False</td>\n",
              "      <td>...</td>\n",
              "      <td>NaN</td>\n",
              "      <td>NaN</td>\n",
              "      <td>NaN</td>\n",
              "      <td>NaN</td>\n",
              "      <td>NaN</td>\n",
              "      <td>NaN</td>\n",
              "      <td>NaN</td>\n",
              "      <td>NaN</td>\n",
              "      <td>NaN</td>\n",
              "      <td>NaN</td>\n",
              "    </tr>\n",
              "    <tr>\n",
              "      <th>4</th>\n",
              "      <td>Ohio State Buckeyes</td>\n",
              "      <td>2ed11582-305b-4120-a46c-96e04f6cde7e</td>\n",
              "      <td>1500444</td>\n",
              "      <td>1</td>\n",
              "      <td>4</td>\n",
              "      <td>3056d7bc-b1f8-47f4-bb80-0f23629644fb</td>\n",
              "      <td>1.51154</td>\n",
              "      <td>900000.0</td>\n",
              "      <td>1001167</td>\n",
              "      <td>False</td>\n",
              "      <td>...</td>\n",
              "      <td>NaN</td>\n",
              "      <td>NaN</td>\n",
              "      <td>NaN</td>\n",
              "      <td>NaN</td>\n",
              "      <td>NaN</td>\n",
              "      <td>NaN</td>\n",
              "      <td>NaN</td>\n",
              "      <td>NaN</td>\n",
              "      <td>NaN</td>\n",
              "      <td>NaN</td>\n",
              "    </tr>\n",
              "  </tbody>\n",
              "</table>\n",
              "<p>5 rows × 68 columns</p>\n",
              "</div>\n",
              "      <button class=\"colab-df-convert\" onclick=\"convertToInteractive('df-5c820b94-5676-456b-966b-a071d93c8c15')\"\n",
              "              title=\"Convert this dataframe to an interactive table.\"\n",
              "              style=\"display:none;\">\n",
              "        \n",
              "  <svg xmlns=\"http://www.w3.org/2000/svg\" height=\"24px\"viewBox=\"0 0 24 24\"\n",
              "       width=\"24px\">\n",
              "    <path d=\"M0 0h24v24H0V0z\" fill=\"none\"/>\n",
              "    <path d=\"M18.56 5.44l.94 2.06.94-2.06 2.06-.94-2.06-.94-.94-2.06-.94 2.06-2.06.94zm-11 1L8.5 8.5l.94-2.06 2.06-.94-2.06-.94L8.5 2.5l-.94 2.06-2.06.94zm10 10l.94 2.06.94-2.06 2.06-.94-2.06-.94-.94-2.06-.94 2.06-2.06.94z\"/><path d=\"M17.41 7.96l-1.37-1.37c-.4-.4-.92-.59-1.43-.59-.52 0-1.04.2-1.43.59L10.3 9.45l-7.72 7.72c-.78.78-.78 2.05 0 2.83L4 21.41c.39.39.9.59 1.41.59.51 0 1.02-.2 1.41-.59l7.78-7.78 2.81-2.81c.8-.78.8-2.07 0-2.86zM5.41 20L4 18.59l7.72-7.72 1.47 1.35L5.41 20z\"/>\n",
              "  </svg>\n",
              "      </button>\n",
              "      \n",
              "  <style>\n",
              "    .colab-df-container {\n",
              "      display:flex;\n",
              "      flex-wrap:wrap;\n",
              "      gap: 12px;\n",
              "    }\n",
              "\n",
              "    .colab-df-convert {\n",
              "      background-color: #E8F0FE;\n",
              "      border: none;\n",
              "      border-radius: 50%;\n",
              "      cursor: pointer;\n",
              "      display: none;\n",
              "      fill: #1967D2;\n",
              "      height: 32px;\n",
              "      padding: 0 0 0 0;\n",
              "      width: 32px;\n",
              "    }\n",
              "\n",
              "    .colab-df-convert:hover {\n",
              "      background-color: #E2EBFA;\n",
              "      box-shadow: 0px 1px 2px rgba(60, 64, 67, 0.3), 0px 1px 3px 1px rgba(60, 64, 67, 0.15);\n",
              "      fill: #174EA6;\n",
              "    }\n",
              "\n",
              "    [theme=dark] .colab-df-convert {\n",
              "      background-color: #3B4455;\n",
              "      fill: #D2E3FC;\n",
              "    }\n",
              "\n",
              "    [theme=dark] .colab-df-convert:hover {\n",
              "      background-color: #434B5C;\n",
              "      box-shadow: 0px 1px 3px 1px rgba(0, 0, 0, 0.15);\n",
              "      filter: drop-shadow(0px 1px 2px rgba(0, 0, 0, 0.3));\n",
              "      fill: #FFFFFF;\n",
              "    }\n",
              "  </style>\n",
              "\n",
              "      <script>\n",
              "        const buttonEl =\n",
              "          document.querySelector('#df-5c820b94-5676-456b-966b-a071d93c8c15 button.colab-df-convert');\n",
              "        buttonEl.style.display =\n",
              "          google.colab.kernel.accessAllowed ? 'block' : 'none';\n",
              "\n",
              "        async function convertToInteractive(key) {\n",
              "          const element = document.querySelector('#df-5c820b94-5676-456b-966b-a071d93c8c15');\n",
              "          const dataTable =\n",
              "            await google.colab.kernel.invokeFunction('convertToInteractive',\n",
              "                                                     [key], {});\n",
              "          if (!dataTable) return;\n",
              "\n",
              "          const docLinkHtml = 'Like what you see? Visit the ' +\n",
              "            '<a target=\"_blank\" href=https://colab.research.google.com/notebooks/data_table.ipynb>data table notebook</a>'\n",
              "            + ' to learn more about interactive tables.';\n",
              "          element.innerHTML = '';\n",
              "          dataTable['output_type'] = 'display_data';\n",
              "          await google.colab.output.renderOutput(dataTable, element);\n",
              "          const docLink = document.createElement('div');\n",
              "          docLink.innerHTML = docLinkHtml;\n",
              "          element.appendChild(docLink);\n",
              "        }\n",
              "      </script>\n",
              "    </div>\n",
              "  </div>\n",
              "  "
            ]
          },
          "metadata": {},
          "execution_count": 9
        }
      ]
    },
    {
      "cell_type": "code",
      "source": [
        "# Convert column names to a list and print\n",
        "column_names = play_by_play.columns.tolist()\n",
        "print(column_names)\n"
      ],
      "metadata": {
        "colab": {
          "base_uri": "https://localhost:8080/"
        },
        "id": "Jw0mctNP9pc2",
        "outputId": "4c9e8d63-5918-4e78-cd95-b895740a432d"
      },
      "execution_count": 11,
      "outputs": [
        {
          "output_type": "stream",
          "name": "stdout",
          "text": [
            "['offense_team_name', 'defense_team_name', 'play_uuid', 'game_id', 'drive_uuid', 'play_game_index', 'play_drive_index', 'play_quarter', 'play_quarter_clock_remaining', 'play_clock_paused', 'play_start_event_index', 'play_end_event_index', 'play_offense_team_id', 'play_defense_team_id', 'play_offense_is_home_team', 'play_down', 'play_yards_to_go', 'play_yardline', 'play_start_position', 'play_home_score', 'play_away_score', 'play_home_timeouts_remaining', 'play_away_timeouts_remaining', 'play_box_players', 'play_defensive_back_depths', 'play_linebacker_depths', 'play_shotgun', 'play_pre_snap_motion', 'play_snap_hurried', 'play_success', 'play_first_down_won', 'play_touchdown_won', 'play_yards_net', 'play_points_won', 'play_type', 'play_included_fake', 'play_qb_hurried', 'play_qb_hit', 'play_qb_sacked', 'play_pass_yards_air', 'play_pass_yards_after_catch', 'play_pass_outcome', 'play_pass_dropped', 'play_pass_intercepted', 'play_pass_interception_dropped', 'play_time_to_pass', 'play_passer_moved_off_spot', 'play_pass_batted', 'play_yards_run', 'play_penalty_yards', 'play_penalty_first_down', 'play_penalty_down_loss', 'play_penalty_offset', 'play_return_yards', 'play_field_goal_result', 'play_extra_point_result', 'play_kick_yards', 'play_kick_hangtime', 'play_kick_blocked', 'play_kick_fair_catch', 'play_kick_downed', 'play_fumbled', 'play_fumble_forced', 'play_fumble_lost', 'play_fumble_out_of_bounds', 'play_challenged', 'play_ball_path', 'play_action_pass', 'play_points_lost', 'play_start_position_yards', 'play_penalty_types', 'play_explosive', 'play_offensive_personnel', 'play_defensive_personnel', 'play_turnover_type', 'play_offense_penalty_accepted', 'play_defense_penalty_accepted', 'play_offense_flagged', 'play_defense_flagged', 'play_tackle_success', 'play_lateral_success', 'play_yards_gained', 'play_epoch_uuid', 'play_offense_players_left', 'play_offense_players_right', 'play_snap_y', 'play_down_negated', 'play_point_of_attack_y', 'play_point_of_attack_dy', 'play_pocket_front_x', 'play_pocket_back_x', 'play_pocket_left_y', 'play_pocket_right_y', 'play_qb_exit_pocket_x', 'play_qb_exit_pocket_y', 'play_qb_exit_pocket_clock', 'play_run_gap', 'play_pressure_gaps', 'play_qb_dropback_depth', 'play_run_behind_1', 'play_run_behind_2', 'play_run_at', 'play_receiver_screen_pass', 'play_derived_pressure_gaps', 'play_pass_air_yards_to_the_sticks', 'play_pass_within_pocket', 'play_designed_pass', 'play_qb_rush', 'play_pass_thrownaway', 'play_formation_into_boundary', 'play_blitz', 'play_simulated_pressure', 'play_drop_eight', 'play_pass_comp_prob', 'play_catch_prob_with_placement', 'play_catch_prob_without_placement', 'play_initial_formation', 'play_initial_formation_group', 'play_initial_formation_type', 'play_initial_formation_run_strength', 'play_initial_formation_pass_strength', 'play_initial_formation_snap_side', 'play_initial_formation_fib', 'play_initial_formation_variant_f_on', 'play_initial_formation_variant_h_on', 'play_initial_formation_variant_x_on', 'play_initial_formation_variant_y_on', 'play_initial_formation_variant_z_on', 'play_formation', 'play_formation_group', 'play_formation_type', 'play_formation_run_strength', 'play_formation_pass_strength', 'play_formation_fib', 'play_formation_variant_f_on', 'play_formation_variant_h_on', 'play_formation_variant_x_on', 'play_formation_variant_y_on', 'play_formation_variant_z_on', 'play_pass_location']\n"
          ]
        }
      ]
    },
    {
      "cell_type": "code",
      "source": [
        "play_by_play['play_pass_yards_air'].value_counts()"
      ],
      "metadata": {
        "colab": {
          "base_uri": "https://localhost:8080/"
        },
        "id": "tqfLxXt6-LsC",
        "outputId": "ad4670ed-6deb-4619-ee2b-a7467b2c570e"
      },
      "execution_count": 12,
      "outputs": [
        {
          "output_type": "execute_result",
          "data": {
            "text/plain": [
              " 4.03     5\n",
              " 12.71    4\n",
              " 6.20     4\n",
              " 0.00     3\n",
              " 5.42     3\n",
              "         ..\n",
              " 18.07    1\n",
              " 14.72    1\n",
              "-4.19     1\n",
              " 3.10     1\n",
              " 37.05    1\n",
              "Name: play_pass_yards_air, Length: 619, dtype: int64"
            ]
          },
          "metadata": {},
          "execution_count": 12
        }
      ]
    },
    {
      "cell_type": "code",
      "source": [
        "play_by_play['play_pass_yards_air'].min()"
      ],
      "metadata": {
        "colab": {
          "base_uri": "https://localhost:8080/"
        },
        "id": "b5_OXNMt-ydU",
        "outputId": "11bb613e-409e-4d33-9434-66d75595a9cc"
      },
      "execution_count": 13,
      "outputs": [
        {
          "output_type": "execute_result",
          "data": {
            "text/plain": [
              "-51.46000000000001"
            ]
          },
          "metadata": {},
          "execution_count": 13
        }
      ]
    },
    {
      "cell_type": "code",
      "source": [
        "play_by_play['play_pass_yards_air'].max()"
      ],
      "metadata": {
        "colab": {
          "base_uri": "https://localhost:8080/"
        },
        "id": "BfVgpEji-7JO",
        "outputId": "36c6805f-2ea6-40cd-9943-1634a02b60b7"
      },
      "execution_count": 14,
      "outputs": [
        {
          "output_type": "execute_result",
          "data": {
            "text/plain": [
              "54.09"
            ]
          },
          "metadata": {},
          "execution_count": 14
        }
      ]
    },
    {
      "cell_type": "code",
      "source": [
        "# plot the distribution of the play_pass_yards_air column\n",
        "play_by_play['play_pass_yards_air'].hist()"
      ],
      "metadata": {
        "colab": {
          "base_uri": "https://localhost:8080/",
          "height": 544
        },
        "id": "lfOegvBt-91F",
        "outputId": "eca11c6b-f151-4501-831a-5cd5b7a441ba"
      },
      "execution_count": 15,
      "outputs": [
        {
          "output_type": "execute_result",
          "data": {
            "text/plain": [
              "<Axes: >"
            ]
          },
          "metadata": {},
          "execution_count": 15
        },
        {
          "output_type": "display_data",
          "data": {
            "text/plain": [
              "<Figure size 1000x600 with 1 Axes>"
            ],
            "image/png": "[encoded data removed]"
          },
          "metadata": {}
        }
      ]
    },
    {
      "cell_type": "code",
      "source": [
        "# seperate those play_pass_yards_air by team that was on offense\n",
        "play_by_play_offense = play_by_play[play_by_play['play_pass_yards_air'] > 0]"
      ],
      "metadata": {
        "id": "bjMl_bJq_Bzc"
      },
      "execution_count": 16,
      "outputs": []
    },
    {
      "cell_type": "code",
      "source": [
        "# plot the distribution of the play_pass_yards_air column\n",
        "play_by_play_offense['play_pass_yards_air'].hist()"
      ],
      "metadata": {
        "colab": {
          "base_uri": "https://localhost:8080/",
          "height": 544
        },
        "id": "dAJIAKer_MER",
        "outputId": "d6337ba3-ac0d-4cb0-a369-f857f53a93be"
      },
      "execution_count": 17,
      "outputs": [
        {
          "output_type": "execute_result",
          "data": {
            "text/plain": [
              "<Axes: >"
            ]
          },
          "metadata": {},
          "execution_count": 17
        },
        {
          "output_type": "display_data",
          "data": {
            "text/plain": [
              "<Figure size 1000x600 with 1 Axes>"
            ],
            "image/png": "[encoded data removed]"
          },
          "metadata": {}
        }
      ]
    },
    {
      "cell_type": "code",
      "source": [],
      "metadata": {
        "id": "ttWz202e_Pxn"
      },
      "execution_count": null,
      "outputs": []
    },
    {
      "cell_type": "code",
      "source": [
        "#seperate those play_pass_yards_air by team that was on offense by team name\n",
        "play_by_play_offense_team = play_by_play_offense[play_by_play_offense['play_pass_yards_air'] > 0]"
      ],
      "metadata": {
        "id": "EXra_6VR_W-I"
      },
      "execution_count": 18,
      "outputs": []
    },
    {
      "cell_type": "code",
      "source": [
        "play_by_play_offense_team['team_name'].value_counts()"
      ],
      "metadata": {
        "colab": {
          "base_uri": "https://localhost:8080/",
          "height": 503
        },
        "id": "qs691e6h_dP0",
        "outputId": "33b0d05d-5d85-46b7-d449-61afe2cc0058"
      },
      "execution_count": 19,
      "outputs": [
        {
          "output_type": "error",
          "ename": "KeyError",
          "evalue": "ignored",
          "traceback": [
            "\u001b[0;31m---------------------------------------------------------------------------\u001b[0m",
            "\u001b[0;31mKeyError\u001b[0m                                  Traceback (most recent call last)",
            "\u001b[0;32m/usr/local/lib/python3.9/dist-packages/pandas/core/indexes/base.py\u001b[0m in \u001b[0;36mget_loc\u001b[0;34m(self, key, method, tolerance)\u001b[0m\n\u001b[1;32m   3801\u001b[0m             \u001b[0;32mtry\u001b[0m\u001b[0;34m:\u001b[0m\u001b[0;34m\u001b[0m\u001b[0;34m\u001b[0m\u001b[0m\n\u001b[0;32m-> 3802\u001b[0;31m                 \u001b[0;32mreturn\u001b[0m \u001b[0mself\u001b[0m\u001b[0;34m.\u001b[0m\u001b[0m_engine\u001b[0m\u001b[0;34m.\u001b[0m\u001b[0mget_loc\u001b[0m\u001b[0;34m(\u001b[0m\u001b[0mcasted_key\u001b[0m\u001b[0;34m)\u001b[0m\u001b[0;34m\u001b[0m\u001b[0;34m\u001b[0m\u001b[0m\n\u001b[0m\u001b[1;32m   3803\u001b[0m             \u001b[0;32mexcept\u001b[0m \u001b[0mKeyError\u001b[0m \u001b[0;32mas\u001b[0m \u001b[0merr\u001b[0m\u001b[0;34m:\u001b[0m\u001b[0;34m\u001b[0m\u001b[0;34m\u001b[0m\u001b[0m\n",
            "\u001b[0;32m/usr/local/lib/python3.9/dist-packages/pandas/_libs/index.pyx\u001b[0m in \u001b[0;36mpandas._libs.index.IndexEngine.get_loc\u001b[0;34m()\u001b[0m\n",
            "\u001b[0;32m/usr/local/lib/python3.9/dist-packages/pandas/_libs/index.pyx\u001b[0m in \u001b[0;36mpandas._libs.index.IndexEngine.get_loc\u001b[0;34m()\u001b[0m\n",
            "\u001b[0;32mpandas/_libs/hashtable_class_helper.pxi\u001b[0m in \u001b[0;36mpandas._libs.hashtable.PyObjectHashTable.get_item\u001b[0;34m()\u001b[0m\n",
            "\u001b[0;32mpandas/_libs/hashtable_class_helper.pxi\u001b[0m in \u001b[0;36mpandas._libs.hashtable.PyObjectHashTable.get_item\u001b[0;34m()\u001b[0m\n",
            "\u001b[0;31mKeyError\u001b[0m: 'team_name'",
            "\nThe above exception was the direct cause of the following exception:\n",
            "\u001b[0;31mKeyError\u001b[0m                                  Traceback (most recent call last)",
            "\u001b[0;32m<ipython-input-19-ca0f111224fe>\u001b[0m in \u001b[0;36m<cell line: 1>\u001b[0;34m()\u001b[0m\n\u001b[0;32m----> 1\u001b[0;31m \u001b[0mplay_by_play_offense_team\u001b[0m\u001b[0;34m[\u001b[0m\u001b[0;34m'team_name'\u001b[0m\u001b[0;34m]\u001b[0m\u001b[0;34m.\u001b[0m\u001b[0mvalue_counts\u001b[0m\u001b[0;34m(\u001b[0m\u001b[0;34m)\u001b[0m\u001b[0;34m\u001b[0m\u001b[0;34m\u001b[0m\u001b[0m\n\u001b[0m",
            "\u001b[0;32m/usr/local/lib/python3.9/dist-packages/pandas/core/frame.py\u001b[0m in \u001b[0;36m__getitem__\u001b[0;34m(self, key)\u001b[0m\n\u001b[1;32m   3805\u001b[0m             \u001b[0;32mif\u001b[0m \u001b[0mself\u001b[0m\u001b[0;34m.\u001b[0m\u001b[0mcolumns\u001b[0m\u001b[0;34m.\u001b[0m\u001b[0mnlevels\u001b[0m \u001b[0;34m>\u001b[0m \u001b[0;36m1\u001b[0m\u001b[0;34m:\u001b[0m\u001b[0;34m\u001b[0m\u001b[0;34m\u001b[0m\u001b[0m\n\u001b[1;32m   3806\u001b[0m                 \u001b[0;32mreturn\u001b[0m \u001b[0mself\u001b[0m\u001b[0;34m.\u001b[0m\u001b[0m_getitem_multilevel\u001b[0m\u001b[0;34m(\u001b[0m\u001b[0mkey\u001b[0m\u001b[0;34m)\u001b[0m\u001b[0;34m\u001b[0m\u001b[0;34m\u001b[0m\u001b[0m\n\u001b[0;32m-> 3807\u001b[0;31m             \u001b[0mindexer\u001b[0m \u001b[0;34m=\u001b[0m \u001b[0mself\u001b[0m\u001b[0;34m.\u001b[0m\u001b[0mcolumns\u001b[0m\u001b[0;34m.\u001b[0m\u001b[0mget_loc\u001b[0m\u001b[0;34m(\u001b[0m\u001b[0mkey\u001b[0m\u001b[0;34m)\u001b[0m\u001b[0;34m\u001b[0m\u001b[0;34m\u001b[0m\u001b[0m\n\u001b[0m\u001b[1;32m   3808\u001b[0m             \u001b[0;32mif\u001b[0m \u001b[0mis_integer\u001b[0m\u001b[0;34m(\u001b[0m\u001b[0mindexer\u001b[0m\u001b[0;34m)\u001b[0m\u001b[0;34m:\u001b[0m\u001b[0;34m\u001b[0m\u001b[0;34m\u001b[0m\u001b[0m\n\u001b[1;32m   3809\u001b[0m                 \u001b[0mindexer\u001b[0m \u001b[0;34m=\u001b[0m \u001b[0;34m[\u001b[0m\u001b[0mindexer\u001b[0m\u001b[0;34m]\u001b[0m\u001b[0;34m\u001b[0m\u001b[0;34m\u001b[0m\u001b[0m\n",
            "\u001b[0;32m/usr/local/lib/python3.9/dist-packages/pandas/core/indexes/base.py\u001b[0m in \u001b[0;36mget_loc\u001b[0;34m(self, key, method, tolerance)\u001b[0m\n\u001b[1;32m   3802\u001b[0m                 \u001b[0;32mreturn\u001b[0m \u001b[0mself\u001b[0m\u001b[0;34m.\u001b[0m\u001b[0m_engine\u001b[0m\u001b[0;34m.\u001b[0m\u001b[0mget_loc\u001b[0m\u001b[0;34m(\u001b[0m\u001b[0mcasted_key\u001b[0m\u001b[0;34m)\u001b[0m\u001b[0;34m\u001b[0m\u001b[0;34m\u001b[0m\u001b[0m\n\u001b[1;32m   3803\u001b[0m             \u001b[0;32mexcept\u001b[0m \u001b[0mKeyError\u001b[0m \u001b[0;32mas\u001b[0m \u001b[0merr\u001b[0m\u001b[0;34m:\u001b[0m\u001b[0;34m\u001b[0m\u001b[0;34m\u001b[0m\u001b[0m\n\u001b[0;32m-> 3804\u001b[0;31m                 \u001b[0;32mraise\u001b[0m \u001b[0mKeyError\u001b[0m\u001b[0;34m(\u001b[0m\u001b[0mkey\u001b[0m\u001b[0;34m)\u001b[0m \u001b[0;32mfrom\u001b[0m \u001b[0merr\u001b[0m\u001b[0;34m\u001b[0m\u001b[0;34m\u001b[0m\u001b[0m\n\u001b[0m\u001b[1;32m   3805\u001b[0m             \u001b[0;32mexcept\u001b[0m \u001b[0mTypeError\u001b[0m\u001b[0;34m:\u001b[0m\u001b[0;34m\u001b[0m\u001b[0;34m\u001b[0m\u001b[0m\n\u001b[1;32m   3806\u001b[0m                 \u001b[0;31m# If we have a listlike key, _check_indexing_error will raise\u001b[0m\u001b[0;34m\u001b[0m\u001b[0;34m\u001b[0m\u001b[0m\n",
            "\u001b[0;31mKeyError\u001b[0m: 'team_name'"
          ]
        }
      ]
    },
    {
      "cell_type": "code",
      "source": [
        "play_by_play_offense_team['offense_team_name'].value_counts().head()"
      ],
      "metadata": {
        "colab": {
          "base_uri": "https://localhost:8080/"
        },
        "id": "W9pKzBhq_e6f",
        "outputId": "84f2f8aa-0715-40b8-f560-79c7124b724f"
      },
      "execution_count": 20,
      "outputs": [
        {
          "output_type": "execute_result",
          "data": {
            "text/plain": [
              "Ohio State Buckeyes          316\n",
              "Arkansas State Red Wolves     30\n",
              "Penn State Nittany Lions      27\n",
              "Maryland Terrapins            25\n",
              "Michigan Wolverines           23\n",
              "Name: offense_team_name, dtype: int64"
            ]
          },
          "metadata": {},
          "execution_count": 20
        }
      ]
    },
    {
      "cell_type": "code",
      "source": [
        "\n",
        "# Group the data by the 'team' column and calculate the sum of 'air yards' for each team\n",
        "# (Assuming the teams are listed in a column named 'team' and the air yards are listed in a column named 'air_yards')\n",
        "air_yards_by_team = play_by_play.groupby('offense_team_name')['play_pass_yards_air'].sum()\n",
        "\n",
        "# Display the results\n",
        "print(air_yards_by_team)\n"
      ],
      "metadata": {
        "colab": {
          "base_uri": "https://localhost:8080/"
        },
        "id": "5dMziaal_tYv",
        "outputId": "68bfd084-cfeb-4cf8-c524-2740c70f8973"
      },
      "execution_count": 22,
      "outputs": [
        {
          "output_type": "stream",
          "name": "stdout",
          "text": [
            "offense_team_name\n",
            "Arkansas State Red Wolves     227.95\n",
            "Indiana Hoosiers              263.77\n",
            "Iowa Hawkeyes                 140.70\n",
            "Maryland Terrapins            266.52\n",
            "Michigan State Spartans       195.84\n",
            "Michigan Wolverines           363.35\n",
            "Northwestern Wildcats          73.86\n",
            "Notre Dame Fighting Irish     211.78\n",
            "Ohio State Buckeyes          3803.17\n",
            "Penn State Nittany Lions      258.61\n",
            "Rutgers Scarlet Knights       133.80\n",
            "Toledo Rockets                313.31\n",
            "Wisconsin Badgers             202.59\n",
            "Name: play_pass_yards_air, dtype: float64\n"
          ]
        }
      ]
    },
    {
      "cell_type": "code",
      "source": [
        "# Load the CSV file into a Pandas DataFrame\n",
        "df = pd.read_csv('/content/Ohio State 2022 Play by Play Data.csv')\n",
        "\n",
        "# Get the unique team names (assuming the teams are listed in a column named 'team')\n",
        "teams = df['offense_team_name'].unique()\n",
        "\n",
        "# Set the number of bins for the histogram (optional)\n",
        "num_bins = 10\n",
        "\n",
        "# Create a histogram for each team\n",
        "plt.figure(figsize=(10, 6))  # Set the figure size (optional)\n",
        "for team in teams:\n",
        "    # Filter the data for the current team\n",
        "    team_data = df[df['offense_team_name'] == team]['play_pass_yards_air']\n",
        "    \n",
        "    # Plot the histogram (alpha is used for transparency)\n",
        "    plt.hist(team_data, bins=num_bins, alpha=0.5, label=team, density=True)\n",
        "\n",
        "# Customize the chart\n",
        "plt.title('Histogram of Air Yards by Team')  # Set the title of the chart\n",
        "plt.xlabel('Air Yards')  # Set the x-axis label\n",
        "plt.ylabel('Frequency')  # Set the y-axis label\n",
        "plt.legend(loc='upper right')  # Add a legend\n",
        "plt.tight_layout()  # Adjust the layout for better spacing (optional)\n",
        "plt.show()  # Display the chart"
      ],
      "metadata": {
        "colab": {
          "base_uri": "https://localhost:8080/",
          "height": 562
        },
        "id": "fOPVpaRMAlYQ",
        "outputId": "6a388c57-7c7a-4e68-973c-41fdc6884a26"
      },
      "execution_count": 25,
      "outputs": [
        {
          "output_type": "display_data",
          "data": {
            "text/plain": [
              "<Figure size 1000x600 with 1 Axes>"
            ],
            "image/png": "[encoded data removed]"
          },
          "metadata": {}
        }
      ]
    },
    {
      "cell_type": "code",
      "source": [],
      "metadata": {
        "id": "sSgFI-enBylZ"
      },
      "execution_count": null,
      "outputs": []
    }
  ]
}